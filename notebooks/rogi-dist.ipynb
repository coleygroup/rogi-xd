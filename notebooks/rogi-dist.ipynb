{
 "cells": [
  {
   "attachments": {},
   "cell_type": "markdown",
   "metadata": {},
   "source": [
    "# Relative ROGI plots"
   ]
  },
  {
   "cell_type": "code",
   "execution_count": 10,
   "metadata": {},
   "outputs": [],
   "source": [
    "from pathlib import Path\n",
    "from typing import Iterable, Optional, Union\n",
    "\n",
    "import matplotlib as mpl\n",
    "from matplotlib import patches, pyplot as plt\n",
    "import numpy as np\n",
    "import pandas as pd\n",
    "import seaborn as sns\n",
    "\n",
    "rc = mpl.rc_params_from_file(mpl.matplotlib_fname(), use_default_template=False)\n",
    "sns.set_theme(style=\"white\", rc=rc)\n",
    "\n",
    "REPR_LABELS = dict(\n",
    "    fp=\"FP\", vae=\"VAE\", gin=\"GIN\", chemberta=\"ChemBERTa\", chemgpt=\"ChemGPT\", descriptor='descriptors'\n",
    ")\n",
    "JITTER = 0.1625\n",
    "CSV_DIR = Path(\"../results/raw/rogi/tdc+guac\")"
   ]
  },
  {
   "cell_type": "code",
   "execution_count": 11,
   "metadata": {},
   "outputs": [],
   "source": [
    "def disable_gridlines(ax: plt.Axes, axis: str, vals: Union[float, Iterable[float]]):\n",
    "    if isinstance(vals, float):\n",
    "        vals = [vals]\n",
    "    vals = set(vals)\n",
    "\n",
    "    gridlines = ax.get_xgridlines() if axis == \"x\" else ax.get_ygridlines()\n",
    "    for line in gridlines:\n",
    "        v = line.get_xdata()[0] if axis == \"x\" else line.get_ydata()[0]\n",
    "        if v in vals:\n",
    "            line.set(visible=False)\n",
    "    \n",
    "    return ax\n",
    "\n",
    "def fill_in_boxes(boxes, c: str= \"w\", ax: Optional[plt.Axes] = None):\n",
    "    \"\"\"Fill in the boxes in the given boxplot with the given color\"\"\"\n",
    "    ax = ax or plt.gca()\n",
    "\n",
    "    for box in boxes:\n",
    "        patch = patches.PathPatch(box.get_path(), edgecolor=\"None\", facecolor=c, zorder=1)\n",
    "        ax.add_patch(patch)\n",
    "\n",
    "def rogi_string(x: str):\n",
    "    return rf\"$\\mathrm{{ROGI-XD}}_{{\\mathrm{{{x}}}}}$\""
   ]
  },
  {
   "cell_type": "code",
   "execution_count": 3,
   "metadata": {},
   "outputs": [
    {
     "data": {
      "text/html": [
       "<div>\n",
       "<style scoped>\n",
       "    .dataframe tbody tr th:only-of-type {\n",
       "        vertical-align: middle;\n",
       "    }\n",
       "\n",
       "    .dataframe tbody tr th {\n",
       "        vertical-align: top;\n",
       "    }\n",
       "\n",
       "    .dataframe thead th {\n",
       "        text-align: right;\n",
       "    }\n",
       "</style>\n",
       "<table border=\"1\" class=\"dataframe\">\n",
       "  <thead>\n",
       "    <tr style=\"text-align: right;\">\n",
       "      <th></th>\n",
       "      <th>representation</th>\n",
       "      <th>task</th>\n",
       "      <th>rogi</th>\n",
       "      <th>n_valid</th>\n",
       "    </tr>\n",
       "  </thead>\n",
       "  <tbody>\n",
       "    <tr>\n",
       "      <th>0</th>\n",
       "      <td>chemberta</td>\n",
       "      <td>ARIPIPRAZOLE_SIMILARITY</td>\n",
       "      <td>0.158179</td>\n",
       "      <td>10000.0</td>\n",
       "    </tr>\n",
       "    <tr>\n",
       "      <th>1</th>\n",
       "      <td>chemberta</td>\n",
       "      <td>CACO2_WANG</td>\n",
       "      <td>0.217590</td>\n",
       "      <td>910.0</td>\n",
       "    </tr>\n",
       "    <tr>\n",
       "      <th>2</th>\n",
       "      <td>chemberta</td>\n",
       "      <td>CELECOXIB_REDISCOVERY</td>\n",
       "      <td>0.156523</td>\n",
       "      <td>10000.0</td>\n",
       "    </tr>\n",
       "    <tr>\n",
       "      <th>3</th>\n",
       "      <td>chemberta</td>\n",
       "      <td>CLEARANCE_HEPATOCYTE_AZ</td>\n",
       "      <td>0.446076</td>\n",
       "      <td>1213.0</td>\n",
       "    </tr>\n",
       "    <tr>\n",
       "      <th>4</th>\n",
       "      <td>chemberta</td>\n",
       "      <td>CLEARANCE_MICROSOME_AZ</td>\n",
       "      <td>0.369319</td>\n",
       "      <td>1102.0</td>\n",
       "    </tr>\n",
       "    <tr>\n",
       "      <th>...</th>\n",
       "      <td>...</td>\n",
       "      <td>...</td>\n",
       "      <td>...</td>\n",
       "      <td>...</td>\n",
       "    </tr>\n",
       "    <tr>\n",
       "      <th>97</th>\n",
       "      <td>vae</td>\n",
       "      <td>PPBR_AZ</td>\n",
       "      <td>0.213338</td>\n",
       "      <td>1614.0</td>\n",
       "    </tr>\n",
       "    <tr>\n",
       "      <th>98</th>\n",
       "      <td>vae</td>\n",
       "      <td>SCAFFOLD HOP</td>\n",
       "      <td>0.114157</td>\n",
       "      <td>10000.0</td>\n",
       "    </tr>\n",
       "    <tr>\n",
       "      <th>99</th>\n",
       "      <td>vae</td>\n",
       "      <td>SOLUBILITY_AQSOLDB</td>\n",
       "      <td>0.143722</td>\n",
       "      <td>9982.0</td>\n",
       "    </tr>\n",
       "    <tr>\n",
       "      <th>100</th>\n",
       "      <td>vae</td>\n",
       "      <td>VDSS_LOMBARDO</td>\n",
       "      <td>0.049239</td>\n",
       "      <td>1130.0</td>\n",
       "    </tr>\n",
       "    <tr>\n",
       "      <th>101</th>\n",
       "      <td>vae</td>\n",
       "      <td>ZALEPLON_MPO</td>\n",
       "      <td>0.255782</td>\n",
       "      <td>10000.0</td>\n",
       "    </tr>\n",
       "  </tbody>\n",
       "</table>\n",
       "<p>102 rows × 4 columns</p>\n",
       "</div>"
      ],
      "text/plain": [
       "    representation                     task      rogi  n_valid\n",
       "0        chemberta  ARIPIPRAZOLE_SIMILARITY  0.158179  10000.0\n",
       "1        chemberta               CACO2_WANG  0.217590    910.0\n",
       "2        chemberta    CELECOXIB_REDISCOVERY  0.156523  10000.0\n",
       "3        chemberta  CLEARANCE_HEPATOCYTE_AZ  0.446076   1213.0\n",
       "4        chemberta   CLEARANCE_MICROSOME_AZ  0.369319   1102.0\n",
       "..             ...                      ...       ...      ...\n",
       "97             vae                  PPBR_AZ  0.213338   1614.0\n",
       "98             vae             SCAFFOLD HOP  0.114157  10000.0\n",
       "99             vae       SOLUBILITY_AQSOLDB  0.143722   9982.0\n",
       "100            vae            VDSS_LOMBARDO  0.049239   1130.0\n",
       "101            vae             ZALEPLON_MPO  0.255782  10000.0\n",
       "\n",
       "[102 rows x 4 columns]"
      ]
     },
     "execution_count": 3,
     "metadata": {},
     "output_type": "execute_result"
    }
   ],
   "source": [
    "df = pd.concat([pd.read_csv(p) for p in CSV_DIR.iterdir() if not p.is_dir()], ignore_index=True)\\\n",
    "    .rename(columns={'dataset_and_task': \"task\"})\\\n",
    "    .groupby([\"representation\", \"task\"])\\\n",
    "    .mean()\\\n",
    "    .reset_index()\\\n",
    "    .replace({\"morgan\": \"FP\", \"descriptor\": \"descriptors\"})\n",
    "\n",
    "REPRS = [\"chemberta\", \"chemgpt\", \"gin\", \"vae\", \"descriptors\", \"FP\"]\n",
    "PRETRAINED_REPRS = [\"chemberta\", \"chemgpt\", \"gin\", \"vae\"]\n",
    "\n",
    "sns.set_palette(\"Set2\", len(REPRS))\n",
    "COLORS = sns.color_palette(\"Set2\", len(REPRS))\n",
    "REPR_COLORS = dict(zip(REPRS, COLORS))\n",
    "\n",
    "df"
   ]
  },
  {
   "cell_type": "code",
   "execution_count": 4,
   "metadata": {},
   "outputs": [],
   "source": [
    "df_desc = df.query(f\"representation == 'descriptors'\").set_index(\"task\")\n",
    "df_fp = df.query(f\"representation == 'FP'\").set_index(\"task\")\n",
    "df_pcms = [df.query(f\"representation == '{f}'\").set_index('task') for f in PRETRAINED_REPRS]\n",
    "\n",
    "for df_ in df_pcms:\n",
    "    df_[\"rogi_desc\"] = df_['rogi'] / df_desc['rogi'] - 1\n",
    "    df_[\"rogi_fp\"] = df_['rogi'] / df_fp['rogi'] - 1\n",
    "\n",
    "df_rel = pd.concat(df_pcms).reset_index()"
   ]
  },
  {
   "cell_type": "code",
   "execution_count": 5,
   "metadata": {},
   "outputs": [
    {
     "data": {
      "text/plain": [
       "(0.0465630806273556, 0.4401489869004399)"
      ]
     },
     "execution_count": 5,
     "metadata": {},
     "output_type": "execute_result"
    }
   ],
   "source": [
    "x = df.groupby(\"representation\").rogi.apply(np.array)['descriptors']\n",
    "x.min(), x.max()"
   ]
  },
  {
   "cell_type": "code",
   "execution_count": 6,
   "metadata": {},
   "outputs": [
    {
     "data": {
      "text/plain": [
       "array([[0.04160378, 0.09054517, 0.09799598, 0.10680955, 0.11678901,\n",
       "        0.13587353, 0.15495535, 0.1565227 , 0.15817872, 0.16807419,\n",
       "        0.1723378 , 0.21759034, 0.24683524, 0.26217968, 0.29347398,\n",
       "        0.36931863, 0.44607585],\n",
       "       [0.05208586, 0.08959611, 0.10323407, 0.11002378, 0.1248786 ,\n",
       "        0.14928657, 0.15295035, 0.15589592, 0.15877354, 0.16052551,\n",
       "        0.17361178, 0.19299871, 0.22576629, 0.26885199, 0.28226426,\n",
       "        0.41757403, 0.43932857],\n",
       "       [0.05080547, 0.09418671, 0.09990777, 0.10658723, 0.10862576,\n",
       "        0.11440311, 0.12674707, 0.12987986, 0.13481967, 0.14991195,\n",
       "        0.1619799 , 0.18260657, 0.21483148, 0.24735023, 0.26232079,\n",
       "        0.40002335, 0.43536176],\n",
       "       [0.04923855, 0.09725305, 0.09863696, 0.10381027, 0.10748776,\n",
       "        0.1102204 , 0.11414219, 0.11415692, 0.13209473, 0.14372208,\n",
       "        0.16521254, 0.19640767, 0.21333778, 0.25450324, 0.25578156,\n",
       "        0.39015835, 0.44436971],\n",
       "       [0.04656308, 0.05760821, 0.07911512, 0.08490194, 0.08530468,\n",
       "        0.09289114, 0.10685921, 0.10738952, 0.10762028, 0.13206975,\n",
       "        0.14221757, 0.16798704, 0.20347591, 0.21761633, 0.22715576,\n",
       "        0.39393872, 0.44014899],\n",
       "       [0.04281969, 0.08177538, 0.09203702, 0.09375421, 0.10637054,\n",
       "        0.11263546, 0.13268132, 0.13476453, 0.14877897, 0.15643553,\n",
       "        0.15830168, 0.1771371 , 0.22057402, 0.23308387, 0.26269833,\n",
       "        0.38436712, 0.4117816 ]])"
      ]
     },
     "execution_count": 6,
     "metadata": {},
     "output_type": "execute_result"
    }
   ],
   "source": [
    "s = df.groupby(\"representation\").rogi.apply(np.sort)\n",
    "X = np.array([s[r] for r in REPRS])\n",
    "X"
   ]
  },
  {
   "attachments": {},
   "cell_type": "markdown",
   "metadata": {},
   "source": [
    "## Relative ROGI distribution boxplot"
   ]
  },
  {
   "cell_type": "code",
   "execution_count": 29,
   "metadata": {},
   "outputs": [],
   "source": [
    "def add_boxplot(df: pd.DataFrame, x_key: str = \"descriptor\", ax = None):\n",
    "    ax = ax or plt.gca()\n",
    "    \n",
    "    s_rogis = df.groupby(\"representation\").rogi.apply(np.array)\n",
    "    x = s_rogis[x_key]\n",
    "    ys = [s_rogis[f] for f in PRETRAINED_REPRS]\n",
    "\n",
    "    Z = np.array(ys) / x - 1\n",
    "    Z *= 100\n",
    "\n",
    "    bp = ax.boxplot(\n",
    "        Z.T,\n",
    "        vert=False,\n",
    "        labels=[REPR_LABELS.get(f, f) for f in PRETRAINED_REPRS],\n",
    "        widths=4 * JITTER,\n",
    "        # showmeans=True,\n",
    "        patch_artist=True,\n",
    "        # boxprops=dict(fc=\"None\"),\n",
    "        medianprops=dict(zorder=2),\n",
    "        meanprops=dict(ms=8),\n",
    "        showfliers=False,\n",
    "        zorder=3\n",
    "    )\n",
    "    fill_in_boxes(bp['boxes'], 'w', ax)\n",
    "    for l, r in zip(bp['medians'], PRETRAINED_REPRS):\n",
    "        l.set_color(REPR_COLORS[r])\n",
    "\n",
    "\n",
    "    for j, r in zip(range(len(Z)), PRETRAINED_REPRS):\n",
    "        z = Z[j]\n",
    "        y = (j + 1) + np.random.uniform(-JITTER, JITTER, z.shape)\n",
    "\n",
    "        ax.plot(z, y, 'o', color=REPR_COLORS[r], zorder=4)\n",
    "    \n",
    "    ax.grid(False, axis='y')\n",
    "    ax.axvline(0, c='darkgrey', ls='-', lw=1.25, zorder=0.9)"
   ]
  },
  {
   "cell_type": "code",
   "execution_count": 30,
   "metadata": {},
   "outputs": [
    {
     "data": {
      "image/png": "[encoded data removed]",
      "text/plain": [
       "<Figure size 1100x350 with 2 Axes>"
      ]
     },
     "metadata": {},
     "output_type": "display_data"
    }
   ],
   "source": [
    "sns.set_palette(\"Set2\")\n",
    "\n",
    "fig, axs = plt.subplots(1, 2, figsize=(1 + 2 * 5, 3.5), sharey=True)\n",
    "\n",
    "add_boxplot(df, \"descriptors\", axs[0])\n",
    "add_boxplot(df, \"FP\", axs[1])\n",
    "\n",
    "fig.supxlabel(\"Relative difference between ROGI-XD values (%)\", fontsize=\"medium\", y=0.05)\n",
    "fig.tight_layout()"
   ]
  },
  {
   "cell_type": "code",
   "execution_count": 31,
   "metadata": {},
   "outputs": [],
   "source": [
    "fig.savefig(\"../results/figures/boxplot-both-v2.pdf\", bbox_inches=\"tight\")"
   ]
  },
  {
   "attachments": {},
   "cell_type": "markdown",
   "metadata": {},
   "source": [
    "## ROGI distribution"
   ]
  },
  {
   "cell_type": "code",
   "execution_count": 36,
   "metadata": {},
   "outputs": [
    {
     "data": {
      "image/png": "[encoded data removed]",
      "text/plain": [
       "<Figure size 600x400 with 1 Axes>"
      ]
     },
     "metadata": {},
     "output_type": "display_data"
    }
   ],
   "source": [
    "JITTER = 0.1625\n",
    "COLORS = sns.color_palette(None, len(REPRS))\n",
    "\n",
    "fig, ax = plt.subplots(figsize=(6, 4))\n",
    "\n",
    "s = df.groupby(\"representation\").rogi.apply(np.sort)\n",
    "X = np.array([s[r] for r in REPRS])\n",
    "\n",
    "bp = ax.boxplot(\n",
    "    X.T,\n",
    "    vert=False,\n",
    "    labels=[REPR_LABELS.get(r, r) for r in REPRS],\n",
    "    widths=4 * JITTER,\n",
    "    showmeans=True,\n",
    "    patch_artist=True,\n",
    "    boxprops=dict(fc=\"None\"),\n",
    "    medianprops=dict(c=None),\n",
    "    meanprops=dict(ms=8),\n",
    "    showfliers=False,\n",
    ")\n",
    "fill_in_boxes(bp['boxes'], 'w', ax)\n",
    "for l, r in zip(bp['medians'], REPRS):\n",
    "    l.set_color(REPR_COLORS[r])\n",
    "    \n",
    "\n",
    "for j, r in zip(range(len(X)), REPRS):\n",
    "    z = X[j]\n",
    "    y = (j + 1) + np.random.uniform(-JITTER, JITTER, z.shape)\n",
    "\n",
    "    ax.plot(z, y, 'o', color=REPR_COLORS[r])\n",
    "\n",
    "ax.set_xlim(-0.01)\n",
    "# ax.grid(which=\"both\", axis=\"x\", ls=\"--\", dashes=(4, 4))\n",
    "ax.grid(False, axis='y')\n",
    "ax.axvline(0, c='darkgrey', ls='-', lw=1.25, zorder=0.9)\n",
    "ax.set_xlabel(\"ROGI-XD\")\n",
    "\n",
    "fig.tight_layout()"
   ]
  },
  {
   "cell_type": "code",
   "execution_count": 35,
   "metadata": {},
   "outputs": [],
   "source": [
    "fig.savefig(\"../results/figures/rogi-dist.pdf\", bbox_inches=\"tight\")"
   ]
  },
  {
   "cell_type": "code",
   "execution_count": 352,
   "metadata": {},
   "outputs": [
    {
     "data": {
      "text/plain": [
       "(representation\n",
       " FP             0.042820\n",
       " chemberta      0.041604\n",
       " chemgpt        0.052086\n",
       " descriptors    0.046563\n",
       " gin            0.050805\n",
       " vae            0.049239\n",
       " Name: rogi, dtype: float64,\n",
       " representation\n",
       " FP             0.411782\n",
       " chemberta      0.446076\n",
       " chemgpt        0.439329\n",
       " descriptors    0.440149\n",
       " gin            0.435362\n",
       " vae            0.444370\n",
       " Name: rogi, dtype: float64)"
      ]
     },
     "execution_count": 352,
     "metadata": {},
     "output_type": "execute_result"
    }
   ],
   "source": [
    "s.apply(min), s.apply(max)"
   ]
  },
  {
   "cell_type": "code",
   "execution_count": 71,
   "metadata": {},
   "outputs": [
    {
     "data": {
      "text/html": [
       "<div>\n",
       "<style scoped>\n",
       "    .dataframe tbody tr th:only-of-type {\n",
       "        vertical-align: middle;\n",
       "    }\n",
       "\n",
       "    .dataframe tbody tr th {\n",
       "        vertical-align: top;\n",
       "    }\n",
       "\n",
       "    .dataframe thead th {\n",
       "        text-align: right;\n",
       "    }\n",
       "</style>\n",
       "<table border=\"1\" class=\"dataframe\">\n",
       "  <thead>\n",
       "    <tr style=\"text-align: right;\">\n",
       "      <th></th>\n",
       "      <th>representation</th>\n",
       "      <th>dataset</th>\n",
       "      <th>rogi</th>\n",
       "      <th>n_valid</th>\n",
       "    </tr>\n",
       "  </thead>\n",
       "  <tbody>\n",
       "    <tr>\n",
       "      <th>14</th>\n",
       "      <td>chemberta</td>\n",
       "      <td>SCAFFOLD HOP</td>\n",
       "      <td>0.172338</td>\n",
       "      <td>10000.0</td>\n",
       "    </tr>\n",
       "    <tr>\n",
       "      <th>32</th>\n",
       "      <td>chemgpt</td>\n",
       "      <td>SCAFFOLD HOP</td>\n",
       "      <td>0.173612</td>\n",
       "      <td>10000.0</td>\n",
       "    </tr>\n",
       "    <tr>\n",
       "      <th>50</th>\n",
       "      <td>descriptor</td>\n",
       "      <td>SCAFFOLD HOP</td>\n",
       "      <td>0.084902</td>\n",
       "      <td>10000.0</td>\n",
       "    </tr>\n",
       "    <tr>\n",
       "      <th>68</th>\n",
       "      <td>gin</td>\n",
       "      <td>SCAFFOLD HOP</td>\n",
       "      <td>0.149912</td>\n",
       "      <td>10000.0</td>\n",
       "    </tr>\n",
       "    <tr>\n",
       "      <th>86</th>\n",
       "      <td>morgan</td>\n",
       "      <td>SCAFFOLD HOP</td>\n",
       "      <td>0.156436</td>\n",
       "      <td>10000.0</td>\n",
       "    </tr>\n",
       "    <tr>\n",
       "      <th>104</th>\n",
       "      <td>vae</td>\n",
       "      <td>SCAFFOLD HOP</td>\n",
       "      <td>0.117476</td>\n",
       "      <td>10000.0</td>\n",
       "    </tr>\n",
       "  </tbody>\n",
       "</table>\n",
       "</div>"
      ],
      "text/plain": [
       "    representation       dataset      rogi  n_valid\n",
       "14       chemberta  SCAFFOLD HOP  0.172338  10000.0\n",
       "32         chemgpt  SCAFFOLD HOP  0.173612  10000.0\n",
       "50      descriptor  SCAFFOLD HOP  0.084902  10000.0\n",
       "68             gin  SCAFFOLD HOP  0.149912  10000.0\n",
       "86          morgan  SCAFFOLD HOP  0.156436  10000.0\n",
       "104            vae  SCAFFOLD HOP  0.117476  10000.0"
      ]
     },
     "execution_count": 71,
     "metadata": {},
     "output_type": "execute_result"
    }
   ],
   "source": [
    "df.query('task == \"SCAFFOLD HOP\"')"
   ]
  }
 ],
 "metadata": {
  "kernelspec": {
   "display_name": "pcmr",
   "language": "python",
   "name": "python3"
  },
  "language_info": {
   "codemirror_mode": {
    "name": "ipython",
    "version": 3
   },
   "file_extension": ".py",
   "mimetype": "text/x-python",
   "name": "python",
   "nbconvert_exporter": "python",
   "pygments_lexer": "ipython3",
   "version": "3.9.16"
  },
  "orig_nbformat": 4,
  "vscode": {
   "interpreter": {
    "hash": "dceaf6c72880e525c78341673ab20302021b9b62719726c1d3662256ded9b8d0"
   }
  }
 },
 "nbformat": 4,
 "nbformat_minor": 2
}
